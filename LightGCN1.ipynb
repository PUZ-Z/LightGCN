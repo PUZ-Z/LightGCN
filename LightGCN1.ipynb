{
 "cells": [
  {
   "cell_type": "markdown",
   "metadata": {},
   "source": [
    "# Light GCN 논문 리뷰 & 코드 작성\n",
    "**LightGCN: Simplifying and Powering Graph Convolution Network for Recommendation**  \n",
    "*He et al. (2020)*  \n",
    "🔗 [논문 링크](https://arxiv.org/abs/2002.02126)\n",
    "\n",
    "---\n",
    "\n",
    "## 핵심 수식\n",
    "\n",
    "유저와 아이템의 초기 임베딩을 각각 $e_u^{(0)}, e_i^{(0)}$ 라고 할 때, k번째 layer에서 다음과 같이 업데이트 된다.\n",
    "\n",
    "$$\n",
    "e_u^{(k+1)} = \\sum_{i\\in{N_n}}\\frac{1}{\\sqrt{|N_u||N_i|}}e_i^{(k)}\n",
    "$$\n",
    "\n",
    "마지막에는 여러 레이어의 임베딩을 평균 or 가중합 해서 최종 임베딩을 만든다."
   ]
  },
  {
   "cell_type": "code",
   "execution_count": null,
   "metadata": {},
   "outputs": [],
   "source": [
    "import pandas as pd\n",
    "import numpy as np\n",
    "import random\n",
    "import json\n",
    "from tqdm import tqdm\n",
    "from sklearn.preprocessing import LabelEncoder\n",
    "import pickle\n",
    "import os\n",
    "import torch\n",
    "import torch.nn as nn\n",
    "import torch.nn.functional as F\n",
    "from scipy.sparse import coo_matrix, csr_matrix\n",
    "from collections import defaultdict\n",
    "from torch.utils.tensorboard import SummaryWriter"
   ]
  }
 ],
 "metadata": {
  "kernelspec": {
   "display_name": "torch-gpu",
   "language": "python",
   "name": "python3"
  },
  "language_info": {
   "name": "python",
   "version": "3.12.2"
  }
 },
 "nbformat": 4,
 "nbformat_minor": 2
}
